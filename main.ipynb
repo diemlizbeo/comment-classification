{
 "cells": [
  {
   "cell_type": "code",
   "execution_count": 1,
   "metadata": {},
   "outputs": [
    {
     "name": "stderr",
     "output_type": "stream",
     "text": [
      "e:\\DOAN\\phobert-classifier\\env\\lib\\site-packages\\tqdm\\auto.py:21: TqdmWarning: IProgress not found. Please update jupyter and ipywidgets. See https://ipywidgets.readthedocs.io/en/stable/user_install.html\n",
      "  from .autonotebook import tqdm as notebook_tqdm\n"
     ]
    }
   ],
   "source": [
    "from src.module.data_module import DataModule\n",
    "from src.model.phobert_base import PhoBert_base\n",
    "from src.model.phobert_large import *\n",
    "from src.model.phobert_lstm import *\n",
    "from src.model.phobert_cnn import *\n",
    "from src.trainer.fasttext import *\n",
    "from src.trainer.phobert import *\n",
    "import os\n",
    "import yaml\n",
    "from lightning.pytorch.callbacks import ModelCheckpoint, EarlyStopping\n",
    "from lightning.pytorch.loggers import TensorBoardLogger\n",
    "from lightning.pytorch import Trainer, seed_everything\n"
   ]
  },
  {
   "cell_type": "code",
   "execution_count": 2,
   "metadata": {},
   "outputs": [],
   "source": [
    "\n",
    "class config:\n",
    "    root_data_dir = './dataset/datashopee/'\n",
    "    model_type = 'phobert'  \n",
    "    batch_size = 32\n",
    "    max_epochs = 50\n",
    "    drop_out = 0.1\n",
    "    num_labels = 2\n",
    "    vector_size = 300  \n",
    "    num_workers = 2\n",
    "    fasttext_embedding = None  # Otherwise specify path to embedding like src/embedding/fasttext_train_dev.model\n",
    "    seed = 42\n",
    "    freeze_backbone = False\n",
    "    val_each_epoch = 2\n",
    "    learning_rate = 1e-4\n",
    "    accelarator = \"gpu\"\n",
    "\n",
    "    tensorboard = {\n",
    "        'dir': 'logging',\n",
    "        'name': 'experiment',\n",
    "        'version': 0\n",
    "    }\n",
    "\n",
    "    ckpt_dir = 'logging/experiment/0/ckpt'"
   ]
  },
  {
   "cell_type": "code",
   "execution_count": 3,
   "metadata": {},
   "outputs": [
    {
     "name": "stdout",
     "output_type": "stream",
     "text": [
      "MODEL TYPE: phobert\n"
     ]
    }
   ],
   "source": [
    "dm = DataModule(root_data_dir=config.root_data_dir,\n",
    "                    model_type=config.model_type,\n",
    "                    batch_size=config.batch_size,\n",
    "                    num_workers=config.num_workers,\n",
    "                    fasttext_embedding=config.fasttext_embedding)\n",
    "\n",
    "dm.setup('fit')\n",
    "loss_weight = dm.train_data.class_weights"
   ]
  },
  {
   "cell_type": "code",
   "execution_count": 4,
   "metadata": {},
   "outputs": [
    {
     "name": "stdout",
     "output_type": "stream",
     "text": [
      "Chon model:\n",
      "\n",
      "(1)PhoBERT(base)\n",
      "(2)PhoBERT(large)\n",
      "(3)PhoBERT(base) + LSTM\n",
      "(4)PhoBERT(base) + CNN\n",
      "(5)FastText + LSTM\n"
     ]
    }
   ],
   "source": [
    "\n",
    "print(\"Chon model:\\n\")\n",
    "print(\"(1)PhoBERT(base)\")\n",
    "print(\"(2)PhoBERT(large)\")\n",
    "print(\"(3)PhoBERT(base) + LSTM\")\n",
    "print(\"(4)PhoBERT(base) + CNN\")\n",
    "print(\"(5)FastText + LSTM\")\n",
    "\n",
    "model_num = int(input(\"Chon model so: \"))"
   ]
  },
  {
   "cell_type": "code",
   "execution_count": 5,
   "metadata": {},
   "outputs": [
    {
     "name": "stderr",
     "output_type": "stream",
     "text": [
      "Some weights of RobertaModel were not initialized from the model checkpoint at vinai/phobert-base-v2 and are newly initialized: ['roberta.pooler.dense.bias', 'roberta.pooler.dense.weight']\n",
      "You should probably TRAIN this model on a down-stream task to be able to use it for predictions and inference.\n"
     ]
    }
   ],
   "source": [
    "\n",
    "if model_num == 1:\n",
    "    model = PhoBert_base(freeze_backbone=config.freeze_backbone,drop_out=config.drop_out,num_labels=config.num_labels)\n",
    "elif model_num == 2:\n",
    "    model = PhoBert_large(drop_out=config.drop_out,num_labels=config.num_labels)\n",
    "elif model_num == 3:\n",
    "    model = PhoBERTLSTM(drop_out=config.drop_out,num_labels=config.num_labels)\n",
    "elif model_num == 4:\n",
    "    model = PhoBERTCNN_base(drop_out=config.drop_out,num_labels=config.num_labels)\n",
    "elif model_num == 5:\n",
    "    pass\n",
    "else:\n",
    "    raise ValueError(f\"Not support model\")\n",
    "\n",
    "if model_num == 5:\n",
    "    system = FastTextLSTMModel(dropout=config.drop_out,\n",
    "                                num_labels=config.num_labels,\n",
    "                                hidden_size=config.vector_size,\n",
    "                                loss_weight=loss_weight)\n",
    "else:\n",
    "    system = PhoBERTModel(model=model,\n",
    "                            num_labels=config.num_labels,\n",
    "                            loss_weight=loss_weight)"
   ]
  },
  {
   "cell_type": "code",
   "execution_count": 6,
   "metadata": {},
   "outputs": [
    {
     "name": "stderr",
     "output_type": "stream",
     "text": [
      "GPU available: True (cuda), used: True\n",
      "TPU available: False, using: 0 TPU cores\n",
      "IPU available: False, using: 0 IPUs\n",
      "HPU available: False, using: 0 HPUs\n"
     ]
    }
   ],
   "source": [
    "checkpoint_callback = ModelCheckpoint(dirpath=config.ckpt_dir, monitor=\"val_loss\",save_top_k=5, mode=\"min\")\n",
    "\n",
    "early_stopping = EarlyStopping(monitor=\"val_loss\", mode=\"min\", patience=40)\n",
    "\n",
    "logger = TensorBoardLogger(save_dir=config.tensorboard['dir'], name=config.tensorboard['name'], version=config.tensorboard['version'])\n",
    "\n",
    "trainer = Trainer(accelerator=config.accelarator, check_val_every_n_epoch=config.val_each_epoch,gradient_clip_val=1.0,\n",
    "                max_epochs=config.max_epochs,enable_checkpointing=True, deterministic=True, default_root_dir=config.ckpt_dir,\n",
    "                callbacks=[checkpoint_callback, early_stopping], logger=logger, accumulate_grad_batches=4,log_every_n_steps=1)\n"
   ]
  },
  {
   "cell_type": "code",
   "execution_count": 7,
   "metadata": {},
   "outputs": [
    {
     "name": "stderr",
     "output_type": "stream",
     "text": [
      "LOCAL_RANK: 0 - CUDA_VISIBLE_DEVICES: [0]\n",
      "\n",
      "  | Name          | Type               | Params\n",
      "-----------------------------------------------------\n",
      "0 | model         | PhoBert_base       | 136 M \n",
      "1 | train_loss_fn | CrossEntropyLoss   | 0     \n",
      "2 | loss_fn       | CrossEntropyLoss   | 0     \n",
      "3 | test_metrics  | MetricCollection   | 0     \n",
      "4 | val_acc_fn    | MulticlassAccuracy | 0     \n",
      "-----------------------------------------------------\n",
      "136 M     Trainable params\n",
      "0         Non-trainable params\n",
      "136 M     Total params\n",
      "544.458   Total estimated model params size (MB)\n"
     ]
    },
    {
     "name": "stdout",
     "output_type": "stream",
     "text": [
      "Sanity Checking: |          | 0/? [00:00<?, ?it/s]"
     ]
    },
    {
     "name": "stderr",
     "output_type": "stream",
     "text": [
      "e:\\DOAN\\phobert-classifier\\env\\lib\\site-packages\\lightning\\pytorch\\trainer\\connectors\\data_connector.py:436: Consider setting `persistent_workers=True` in 'val_dataloader' to speed up the dataloader worker initialization.\n"
     ]
    },
    {
     "name": "stdout",
     "output_type": "stream",
     "text": [
      "                                                                           \r"
     ]
    },
    {
     "name": "stderr",
     "output_type": "stream",
     "text": [
      "e:\\DOAN\\phobert-classifier\\env\\lib\\site-packages\\lightning\\pytorch\\trainer\\connectors\\data_connector.py:436: Consider setting `persistent_workers=True` in 'train_dataloader' to speed up the dataloader worker initialization.\n"
     ]
    },
    {
     "name": "stdout",
     "output_type": "stream",
     "text": [
      "Epoch 0:   1%|          | 3/566 [00:44<2:18:11,  0.07it/s, v_num=0, train_loss_step=0.697]"
     ]
    }
   ],
   "source": [
    "trainer.fit(model=system, datamodule=dm)\n"
   ]
  },
  {
   "cell_type": "code",
   "execution_count": 7,
   "metadata": {},
   "outputs": [],
   "source": [
    "import torch\n",
    "import torch.nn as nn\n",
    "from transformers import RobertaModel, RobertaConfig\n",
    "import torch.nn.functional as F\n",
    "\n",
    "class PhoBertFeedForward_base(nn.Module):\n",
    "    def __init__(self, from_pretrained: bool = True, freeze_backbone: bool = False, drop_out: float = 0.1, out_channels: int = 2):\n",
    "        super(PhoBertFeedForward_base, self).__init__()\n",
    "        phobert_config = RobertaConfig.from_pretrained(\"vinai/phobert-base-v2\")\n",
    "        self.bert = RobertaModel(config=phobert_config)\n",
    "        if from_pretrained:\n",
    "            self.bert = RobertaModel.from_pretrained(\"vinai/phobert-base-v2\")\n",
    "        self.classifier = nn.Sequential(\n",
    "            nn.Linear(768, 768),\n",
    "            nn.Dropout(drop_out),\n",
    "            nn.Linear(768, out_channels))\n",
    "\n",
    "        if freeze_backbone:\n",
    "            for param in self.bert.parameters():\n",
    "                param.require_grad = False\n",
    "\n",
    "    def forward(self, input_ids, attn_mask):\n",
    "        bert_feature = self.bert(input_ids=input_ids, attention_mask=attn_mask)\n",
    "        last_hidden_cls = bert_feature[0][:, 0, :]\n",
    "        logits = self.classifier(last_hidden_cls)\n",
    "        return logits"
   ]
  },
  {
   "cell_type": "code",
   "execution_count": 8,
   "metadata": {},
   "outputs": [
    {
     "name": "stderr",
     "output_type": "stream",
     "text": [
      "Some weights of RobertaModel were not initialized from the model checkpoint at vinai/phobert-base-v2 and are newly initialized: ['roberta.pooler.dense.bias', 'roberta.pooler.dense.weight']\n",
      "You should probably TRAIN this model on a down-stream task to be able to use it for predictions and inference.\n"
     ]
    },
    {
     "data": {
      "text/plain": [
       "_IncompatibleKeys(missing_keys=['bert.embeddings.word_embeddings.weight', 'bert.embeddings.position_embeddings.weight', 'bert.embeddings.token_type_embeddings.weight', 'bert.embeddings.LayerNorm.weight', 'bert.embeddings.LayerNorm.bias', 'bert.encoder.layer.0.attention.self.query.weight', 'bert.encoder.layer.0.attention.self.query.bias', 'bert.encoder.layer.0.attention.self.key.weight', 'bert.encoder.layer.0.attention.self.key.bias', 'bert.encoder.layer.0.attention.self.value.weight', 'bert.encoder.layer.0.attention.self.value.bias', 'bert.encoder.layer.0.attention.output.dense.weight', 'bert.encoder.layer.0.attention.output.dense.bias', 'bert.encoder.layer.0.attention.output.LayerNorm.weight', 'bert.encoder.layer.0.attention.output.LayerNorm.bias', 'bert.encoder.layer.0.intermediate.dense.weight', 'bert.encoder.layer.0.intermediate.dense.bias', 'bert.encoder.layer.0.output.dense.weight', 'bert.encoder.layer.0.output.dense.bias', 'bert.encoder.layer.0.output.LayerNorm.weight', 'bert.encoder.layer.0.output.LayerNorm.bias', 'bert.encoder.layer.1.attention.self.query.weight', 'bert.encoder.layer.1.attention.self.query.bias', 'bert.encoder.layer.1.attention.self.key.weight', 'bert.encoder.layer.1.attention.self.key.bias', 'bert.encoder.layer.1.attention.self.value.weight', 'bert.encoder.layer.1.attention.self.value.bias', 'bert.encoder.layer.1.attention.output.dense.weight', 'bert.encoder.layer.1.attention.output.dense.bias', 'bert.encoder.layer.1.attention.output.LayerNorm.weight', 'bert.encoder.layer.1.attention.output.LayerNorm.bias', 'bert.encoder.layer.1.intermediate.dense.weight', 'bert.encoder.layer.1.intermediate.dense.bias', 'bert.encoder.layer.1.output.dense.weight', 'bert.encoder.layer.1.output.dense.bias', 'bert.encoder.layer.1.output.LayerNorm.weight', 'bert.encoder.layer.1.output.LayerNorm.bias', 'bert.encoder.layer.2.attention.self.query.weight', 'bert.encoder.layer.2.attention.self.query.bias', 'bert.encoder.layer.2.attention.self.key.weight', 'bert.encoder.layer.2.attention.self.key.bias', 'bert.encoder.layer.2.attention.self.value.weight', 'bert.encoder.layer.2.attention.self.value.bias', 'bert.encoder.layer.2.attention.output.dense.weight', 'bert.encoder.layer.2.attention.output.dense.bias', 'bert.encoder.layer.2.attention.output.LayerNorm.weight', 'bert.encoder.layer.2.attention.output.LayerNorm.bias', 'bert.encoder.layer.2.intermediate.dense.weight', 'bert.encoder.layer.2.intermediate.dense.bias', 'bert.encoder.layer.2.output.dense.weight', 'bert.encoder.layer.2.output.dense.bias', 'bert.encoder.layer.2.output.LayerNorm.weight', 'bert.encoder.layer.2.output.LayerNorm.bias', 'bert.encoder.layer.3.attention.self.query.weight', 'bert.encoder.layer.3.attention.self.query.bias', 'bert.encoder.layer.3.attention.self.key.weight', 'bert.encoder.layer.3.attention.self.key.bias', 'bert.encoder.layer.3.attention.self.value.weight', 'bert.encoder.layer.3.attention.self.value.bias', 'bert.encoder.layer.3.attention.output.dense.weight', 'bert.encoder.layer.3.attention.output.dense.bias', 'bert.encoder.layer.3.attention.output.LayerNorm.weight', 'bert.encoder.layer.3.attention.output.LayerNorm.bias', 'bert.encoder.layer.3.intermediate.dense.weight', 'bert.encoder.layer.3.intermediate.dense.bias', 'bert.encoder.layer.3.output.dense.weight', 'bert.encoder.layer.3.output.dense.bias', 'bert.encoder.layer.3.output.LayerNorm.weight', 'bert.encoder.layer.3.output.LayerNorm.bias', 'bert.encoder.layer.4.attention.self.query.weight', 'bert.encoder.layer.4.attention.self.query.bias', 'bert.encoder.layer.4.attention.self.key.weight', 'bert.encoder.layer.4.attention.self.key.bias', 'bert.encoder.layer.4.attention.self.value.weight', 'bert.encoder.layer.4.attention.self.value.bias', 'bert.encoder.layer.4.attention.output.dense.weight', 'bert.encoder.layer.4.attention.output.dense.bias', 'bert.encoder.layer.4.attention.output.LayerNorm.weight', 'bert.encoder.layer.4.attention.output.LayerNorm.bias', 'bert.encoder.layer.4.intermediate.dense.weight', 'bert.encoder.layer.4.intermediate.dense.bias', 'bert.encoder.layer.4.output.dense.weight', 'bert.encoder.layer.4.output.dense.bias', 'bert.encoder.layer.4.output.LayerNorm.weight', 'bert.encoder.layer.4.output.LayerNorm.bias', 'bert.encoder.layer.5.attention.self.query.weight', 'bert.encoder.layer.5.attention.self.query.bias', 'bert.encoder.layer.5.attention.self.key.weight', 'bert.encoder.layer.5.attention.self.key.bias', 'bert.encoder.layer.5.attention.self.value.weight', 'bert.encoder.layer.5.attention.self.value.bias', 'bert.encoder.layer.5.attention.output.dense.weight', 'bert.encoder.layer.5.attention.output.dense.bias', 'bert.encoder.layer.5.attention.output.LayerNorm.weight', 'bert.encoder.layer.5.attention.output.LayerNorm.bias', 'bert.encoder.layer.5.intermediate.dense.weight', 'bert.encoder.layer.5.intermediate.dense.bias', 'bert.encoder.layer.5.output.dense.weight', 'bert.encoder.layer.5.output.dense.bias', 'bert.encoder.layer.5.output.LayerNorm.weight', 'bert.encoder.layer.5.output.LayerNorm.bias', 'bert.encoder.layer.6.attention.self.query.weight', 'bert.encoder.layer.6.attention.self.query.bias', 'bert.encoder.layer.6.attention.self.key.weight', 'bert.encoder.layer.6.attention.self.key.bias', 'bert.encoder.layer.6.attention.self.value.weight', 'bert.encoder.layer.6.attention.self.value.bias', 'bert.encoder.layer.6.attention.output.dense.weight', 'bert.encoder.layer.6.attention.output.dense.bias', 'bert.encoder.layer.6.attention.output.LayerNorm.weight', 'bert.encoder.layer.6.attention.output.LayerNorm.bias', 'bert.encoder.layer.6.intermediate.dense.weight', 'bert.encoder.layer.6.intermediate.dense.bias', 'bert.encoder.layer.6.output.dense.weight', 'bert.encoder.layer.6.output.dense.bias', 'bert.encoder.layer.6.output.LayerNorm.weight', 'bert.encoder.layer.6.output.LayerNorm.bias', 'bert.encoder.layer.7.attention.self.query.weight', 'bert.encoder.layer.7.attention.self.query.bias', 'bert.encoder.layer.7.attention.self.key.weight', 'bert.encoder.layer.7.attention.self.key.bias', 'bert.encoder.layer.7.attention.self.value.weight', 'bert.encoder.layer.7.attention.self.value.bias', 'bert.encoder.layer.7.attention.output.dense.weight', 'bert.encoder.layer.7.attention.output.dense.bias', 'bert.encoder.layer.7.attention.output.LayerNorm.weight', 'bert.encoder.layer.7.attention.output.LayerNorm.bias', 'bert.encoder.layer.7.intermediate.dense.weight', 'bert.encoder.layer.7.intermediate.dense.bias', 'bert.encoder.layer.7.output.dense.weight', 'bert.encoder.layer.7.output.dense.bias', 'bert.encoder.layer.7.output.LayerNorm.weight', 'bert.encoder.layer.7.output.LayerNorm.bias', 'bert.encoder.layer.8.attention.self.query.weight', 'bert.encoder.layer.8.attention.self.query.bias', 'bert.encoder.layer.8.attention.self.key.weight', 'bert.encoder.layer.8.attention.self.key.bias', 'bert.encoder.layer.8.attention.self.value.weight', 'bert.encoder.layer.8.attention.self.value.bias', 'bert.encoder.layer.8.attention.output.dense.weight', 'bert.encoder.layer.8.attention.output.dense.bias', 'bert.encoder.layer.8.attention.output.LayerNorm.weight', 'bert.encoder.layer.8.attention.output.LayerNorm.bias', 'bert.encoder.layer.8.intermediate.dense.weight', 'bert.encoder.layer.8.intermediate.dense.bias', 'bert.encoder.layer.8.output.dense.weight', 'bert.encoder.layer.8.output.dense.bias', 'bert.encoder.layer.8.output.LayerNorm.weight', 'bert.encoder.layer.8.output.LayerNorm.bias', 'bert.encoder.layer.9.attention.self.query.weight', 'bert.encoder.layer.9.attention.self.query.bias', 'bert.encoder.layer.9.attention.self.key.weight', 'bert.encoder.layer.9.attention.self.key.bias', 'bert.encoder.layer.9.attention.self.value.weight', 'bert.encoder.layer.9.attention.self.value.bias', 'bert.encoder.layer.9.attention.output.dense.weight', 'bert.encoder.layer.9.attention.output.dense.bias', 'bert.encoder.layer.9.attention.output.LayerNorm.weight', 'bert.encoder.layer.9.attention.output.LayerNorm.bias', 'bert.encoder.layer.9.intermediate.dense.weight', 'bert.encoder.layer.9.intermediate.dense.bias', 'bert.encoder.layer.9.output.dense.weight', 'bert.encoder.layer.9.output.dense.bias', 'bert.encoder.layer.9.output.LayerNorm.weight', 'bert.encoder.layer.9.output.LayerNorm.bias', 'bert.encoder.layer.10.attention.self.query.weight', 'bert.encoder.layer.10.attention.self.query.bias', 'bert.encoder.layer.10.attention.self.key.weight', 'bert.encoder.layer.10.attention.self.key.bias', 'bert.encoder.layer.10.attention.self.value.weight', 'bert.encoder.layer.10.attention.self.value.bias', 'bert.encoder.layer.10.attention.output.dense.weight', 'bert.encoder.layer.10.attention.output.dense.bias', 'bert.encoder.layer.10.attention.output.LayerNorm.weight', 'bert.encoder.layer.10.attention.output.LayerNorm.bias', 'bert.encoder.layer.10.intermediate.dense.weight', 'bert.encoder.layer.10.intermediate.dense.bias', 'bert.encoder.layer.10.output.dense.weight', 'bert.encoder.layer.10.output.dense.bias', 'bert.encoder.layer.10.output.LayerNorm.weight', 'bert.encoder.layer.10.output.LayerNorm.bias', 'bert.encoder.layer.11.attention.self.query.weight', 'bert.encoder.layer.11.attention.self.query.bias', 'bert.encoder.layer.11.attention.self.key.weight', 'bert.encoder.layer.11.attention.self.key.bias', 'bert.encoder.layer.11.attention.self.value.weight', 'bert.encoder.layer.11.attention.self.value.bias', 'bert.encoder.layer.11.attention.output.dense.weight', 'bert.encoder.layer.11.attention.output.dense.bias', 'bert.encoder.layer.11.attention.output.LayerNorm.weight', 'bert.encoder.layer.11.attention.output.LayerNorm.bias', 'bert.encoder.layer.11.intermediate.dense.weight', 'bert.encoder.layer.11.intermediate.dense.bias', 'bert.encoder.layer.11.output.dense.weight', 'bert.encoder.layer.11.output.dense.bias', 'bert.encoder.layer.11.output.LayerNorm.weight', 'bert.encoder.layer.11.output.LayerNorm.bias', 'bert.pooler.dense.weight', 'bert.pooler.dense.bias', 'classifier.0.weight', 'classifier.0.bias', 'classifier.2.weight', 'classifier.2.bias'], unexpected_keys=['model.bert.embeddings.word_embeddings.weight', 'model.bert.embeddings.position_embeddings.weight', 'model.bert.embeddings.token_type_embeddings.weight', 'model.bert.embeddings.LayerNorm.weight', 'model.bert.embeddings.LayerNorm.bias', 'model.bert.encoder.layer.0.attention.self.query.weight', 'model.bert.encoder.layer.0.attention.self.query.bias', 'model.bert.encoder.layer.0.attention.self.key.weight', 'model.bert.encoder.layer.0.attention.self.key.bias', 'model.bert.encoder.layer.0.attention.self.value.weight', 'model.bert.encoder.layer.0.attention.self.value.bias', 'model.bert.encoder.layer.0.attention.output.dense.weight', 'model.bert.encoder.layer.0.attention.output.dense.bias', 'model.bert.encoder.layer.0.attention.output.LayerNorm.weight', 'model.bert.encoder.layer.0.attention.output.LayerNorm.bias', 'model.bert.encoder.layer.0.intermediate.dense.weight', 'model.bert.encoder.layer.0.intermediate.dense.bias', 'model.bert.encoder.layer.0.output.dense.weight', 'model.bert.encoder.layer.0.output.dense.bias', 'model.bert.encoder.layer.0.output.LayerNorm.weight', 'model.bert.encoder.layer.0.output.LayerNorm.bias', 'model.bert.encoder.layer.1.attention.self.query.weight', 'model.bert.encoder.layer.1.attention.self.query.bias', 'model.bert.encoder.layer.1.attention.self.key.weight', 'model.bert.encoder.layer.1.attention.self.key.bias', 'model.bert.encoder.layer.1.attention.self.value.weight', 'model.bert.encoder.layer.1.attention.self.value.bias', 'model.bert.encoder.layer.1.attention.output.dense.weight', 'model.bert.encoder.layer.1.attention.output.dense.bias', 'model.bert.encoder.layer.1.attention.output.LayerNorm.weight', 'model.bert.encoder.layer.1.attention.output.LayerNorm.bias', 'model.bert.encoder.layer.1.intermediate.dense.weight', 'model.bert.encoder.layer.1.intermediate.dense.bias', 'model.bert.encoder.layer.1.output.dense.weight', 'model.bert.encoder.layer.1.output.dense.bias', 'model.bert.encoder.layer.1.output.LayerNorm.weight', 'model.bert.encoder.layer.1.output.LayerNorm.bias', 'model.bert.encoder.layer.2.attention.self.query.weight', 'model.bert.encoder.layer.2.attention.self.query.bias', 'model.bert.encoder.layer.2.attention.self.key.weight', 'model.bert.encoder.layer.2.attention.self.key.bias', 'model.bert.encoder.layer.2.attention.self.value.weight', 'model.bert.encoder.layer.2.attention.self.value.bias', 'model.bert.encoder.layer.2.attention.output.dense.weight', 'model.bert.encoder.layer.2.attention.output.dense.bias', 'model.bert.encoder.layer.2.attention.output.LayerNorm.weight', 'model.bert.encoder.layer.2.attention.output.LayerNorm.bias', 'model.bert.encoder.layer.2.intermediate.dense.weight', 'model.bert.encoder.layer.2.intermediate.dense.bias', 'model.bert.encoder.layer.2.output.dense.weight', 'model.bert.encoder.layer.2.output.dense.bias', 'model.bert.encoder.layer.2.output.LayerNorm.weight', 'model.bert.encoder.layer.2.output.LayerNorm.bias', 'model.bert.encoder.layer.3.attention.self.query.weight', 'model.bert.encoder.layer.3.attention.self.query.bias', 'model.bert.encoder.layer.3.attention.self.key.weight', 'model.bert.encoder.layer.3.attention.self.key.bias', 'model.bert.encoder.layer.3.attention.self.value.weight', 'model.bert.encoder.layer.3.attention.self.value.bias', 'model.bert.encoder.layer.3.attention.output.dense.weight', 'model.bert.encoder.layer.3.attention.output.dense.bias', 'model.bert.encoder.layer.3.attention.output.LayerNorm.weight', 'model.bert.encoder.layer.3.attention.output.LayerNorm.bias', 'model.bert.encoder.layer.3.intermediate.dense.weight', 'model.bert.encoder.layer.3.intermediate.dense.bias', 'model.bert.encoder.layer.3.output.dense.weight', 'model.bert.encoder.layer.3.output.dense.bias', 'model.bert.encoder.layer.3.output.LayerNorm.weight', 'model.bert.encoder.layer.3.output.LayerNorm.bias', 'model.bert.encoder.layer.4.attention.self.query.weight', 'model.bert.encoder.layer.4.attention.self.query.bias', 'model.bert.encoder.layer.4.attention.self.key.weight', 'model.bert.encoder.layer.4.attention.self.key.bias', 'model.bert.encoder.layer.4.attention.self.value.weight', 'model.bert.encoder.layer.4.attention.self.value.bias', 'model.bert.encoder.layer.4.attention.output.dense.weight', 'model.bert.encoder.layer.4.attention.output.dense.bias', 'model.bert.encoder.layer.4.attention.output.LayerNorm.weight', 'model.bert.encoder.layer.4.attention.output.LayerNorm.bias', 'model.bert.encoder.layer.4.intermediate.dense.weight', 'model.bert.encoder.layer.4.intermediate.dense.bias', 'model.bert.encoder.layer.4.output.dense.weight', 'model.bert.encoder.layer.4.output.dense.bias', 'model.bert.encoder.layer.4.output.LayerNorm.weight', 'model.bert.encoder.layer.4.output.LayerNorm.bias', 'model.bert.encoder.layer.5.attention.self.query.weight', 'model.bert.encoder.layer.5.attention.self.query.bias', 'model.bert.encoder.layer.5.attention.self.key.weight', 'model.bert.encoder.layer.5.attention.self.key.bias', 'model.bert.encoder.layer.5.attention.self.value.weight', 'model.bert.encoder.layer.5.attention.self.value.bias', 'model.bert.encoder.layer.5.attention.output.dense.weight', 'model.bert.encoder.layer.5.attention.output.dense.bias', 'model.bert.encoder.layer.5.attention.output.LayerNorm.weight', 'model.bert.encoder.layer.5.attention.output.LayerNorm.bias', 'model.bert.encoder.layer.5.intermediate.dense.weight', 'model.bert.encoder.layer.5.intermediate.dense.bias', 'model.bert.encoder.layer.5.output.dense.weight', 'model.bert.encoder.layer.5.output.dense.bias', 'model.bert.encoder.layer.5.output.LayerNorm.weight', 'model.bert.encoder.layer.5.output.LayerNorm.bias', 'model.bert.encoder.layer.6.attention.self.query.weight', 'model.bert.encoder.layer.6.attention.self.query.bias', 'model.bert.encoder.layer.6.attention.self.key.weight', 'model.bert.encoder.layer.6.attention.self.key.bias', 'model.bert.encoder.layer.6.attention.self.value.weight', 'model.bert.encoder.layer.6.attention.self.value.bias', 'model.bert.encoder.layer.6.attention.output.dense.weight', 'model.bert.encoder.layer.6.attention.output.dense.bias', 'model.bert.encoder.layer.6.attention.output.LayerNorm.weight', 'model.bert.encoder.layer.6.attention.output.LayerNorm.bias', 'model.bert.encoder.layer.6.intermediate.dense.weight', 'model.bert.encoder.layer.6.intermediate.dense.bias', 'model.bert.encoder.layer.6.output.dense.weight', 'model.bert.encoder.layer.6.output.dense.bias', 'model.bert.encoder.layer.6.output.LayerNorm.weight', 'model.bert.encoder.layer.6.output.LayerNorm.bias', 'model.bert.encoder.layer.7.attention.self.query.weight', 'model.bert.encoder.layer.7.attention.self.query.bias', 'model.bert.encoder.layer.7.attention.self.key.weight', 'model.bert.encoder.layer.7.attention.self.key.bias', 'model.bert.encoder.layer.7.attention.self.value.weight', 'model.bert.encoder.layer.7.attention.self.value.bias', 'model.bert.encoder.layer.7.attention.output.dense.weight', 'model.bert.encoder.layer.7.attention.output.dense.bias', 'model.bert.encoder.layer.7.attention.output.LayerNorm.weight', 'model.bert.encoder.layer.7.attention.output.LayerNorm.bias', 'model.bert.encoder.layer.7.intermediate.dense.weight', 'model.bert.encoder.layer.7.intermediate.dense.bias', 'model.bert.encoder.layer.7.output.dense.weight', 'model.bert.encoder.layer.7.output.dense.bias', 'model.bert.encoder.layer.7.output.LayerNorm.weight', 'model.bert.encoder.layer.7.output.LayerNorm.bias', 'model.bert.encoder.layer.8.attention.self.query.weight', 'model.bert.encoder.layer.8.attention.self.query.bias', 'model.bert.encoder.layer.8.attention.self.key.weight', 'model.bert.encoder.layer.8.attention.self.key.bias', 'model.bert.encoder.layer.8.attention.self.value.weight', 'model.bert.encoder.layer.8.attention.self.value.bias', 'model.bert.encoder.layer.8.attention.output.dense.weight', 'model.bert.encoder.layer.8.attention.output.dense.bias', 'model.bert.encoder.layer.8.attention.output.LayerNorm.weight', 'model.bert.encoder.layer.8.attention.output.LayerNorm.bias', 'model.bert.encoder.layer.8.intermediate.dense.weight', 'model.bert.encoder.layer.8.intermediate.dense.bias', 'model.bert.encoder.layer.8.output.dense.weight', 'model.bert.encoder.layer.8.output.dense.bias', 'model.bert.encoder.layer.8.output.LayerNorm.weight', 'model.bert.encoder.layer.8.output.LayerNorm.bias', 'model.bert.encoder.layer.9.attention.self.query.weight', 'model.bert.encoder.layer.9.attention.self.query.bias', 'model.bert.encoder.layer.9.attention.self.key.weight', 'model.bert.encoder.layer.9.attention.self.key.bias', 'model.bert.encoder.layer.9.attention.self.value.weight', 'model.bert.encoder.layer.9.attention.self.value.bias', 'model.bert.encoder.layer.9.attention.output.dense.weight', 'model.bert.encoder.layer.9.attention.output.dense.bias', 'model.bert.encoder.layer.9.attention.output.LayerNorm.weight', 'model.bert.encoder.layer.9.attention.output.LayerNorm.bias', 'model.bert.encoder.layer.9.intermediate.dense.weight', 'model.bert.encoder.layer.9.intermediate.dense.bias', 'model.bert.encoder.layer.9.output.dense.weight', 'model.bert.encoder.layer.9.output.dense.bias', 'model.bert.encoder.layer.9.output.LayerNorm.weight', 'model.bert.encoder.layer.9.output.LayerNorm.bias', 'model.bert.encoder.layer.10.attention.self.query.weight', 'model.bert.encoder.layer.10.attention.self.query.bias', 'model.bert.encoder.layer.10.attention.self.key.weight', 'model.bert.encoder.layer.10.attention.self.key.bias', 'model.bert.encoder.layer.10.attention.self.value.weight', 'model.bert.encoder.layer.10.attention.self.value.bias', 'model.bert.encoder.layer.10.attention.output.dense.weight', 'model.bert.encoder.layer.10.attention.output.dense.bias', 'model.bert.encoder.layer.10.attention.output.LayerNorm.weight', 'model.bert.encoder.layer.10.attention.output.LayerNorm.bias', 'model.bert.encoder.layer.10.intermediate.dense.weight', 'model.bert.encoder.layer.10.intermediate.dense.bias', 'model.bert.encoder.layer.10.output.dense.weight', 'model.bert.encoder.layer.10.output.dense.bias', 'model.bert.encoder.layer.10.output.LayerNorm.weight', 'model.bert.encoder.layer.10.output.LayerNorm.bias', 'model.bert.encoder.layer.11.attention.self.query.weight', 'model.bert.encoder.layer.11.attention.self.query.bias', 'model.bert.encoder.layer.11.attention.self.key.weight', 'model.bert.encoder.layer.11.attention.self.key.bias', 'model.bert.encoder.layer.11.attention.self.value.weight', 'model.bert.encoder.layer.11.attention.self.value.bias', 'model.bert.encoder.layer.11.attention.output.dense.weight', 'model.bert.encoder.layer.11.attention.output.dense.bias', 'model.bert.encoder.layer.11.attention.output.LayerNorm.weight', 'model.bert.encoder.layer.11.attention.output.LayerNorm.bias', 'model.bert.encoder.layer.11.intermediate.dense.weight', 'model.bert.encoder.layer.11.intermediate.dense.bias', 'model.bert.encoder.layer.11.output.dense.weight', 'model.bert.encoder.layer.11.output.dense.bias', 'model.bert.encoder.layer.11.output.LayerNorm.weight', 'model.bert.encoder.layer.11.output.LayerNorm.bias', 'model.bert.pooler.dense.weight', 'model.bert.pooler.dense.bias', 'model.classifier.0.weight', 'model.classifier.0.bias', 'model.classifier.2.weight', 'model.classifier.2.bias'])"
      ]
     },
     "execution_count": 8,
     "metadata": {},
     "output_type": "execute_result"
    }
   ],
   "source": [
    "import torch\n",
    "state_dict = torch.load('./dataset/datatiki/model/PhoBertbs.pth')\n",
    "state_dict.pop('train_loss_fn.weight', None)\n",
    "\n",
    "# Create model and load modified state_dict\n",
    "model = PhoBertFeedForward_base()\n",
    "model.load_state_dict(state_dict, strict=False)"
   ]
  },
  {
   "cell_type": "code",
   "execution_count": 27,
   "metadata": {},
   "outputs": [
    {
     "name": "stderr",
     "output_type": "stream",
     "text": [
      "Asking to truncate to max_length but no maximum length is provided and the model has no predefined maximum length. Default to no truncation.\n"
     ]
    },
    {
     "name": "stdout",
     "output_type": "stream",
     "text": [
      "tensor([[-0.6454, -0.7433]])\n",
      "Tiêu cực\n"
     ]
    }
   ],
   "source": [
    "from transformers import PhobertTokenizer, RobertaForSequenceClassification\n",
    "import torch\n",
    "\n",
    "# Load pre-trained model and tokenizer\n",
    "model_name = \"vinai/phobert-base-v2\"\n",
    "tokenizer = PhobertTokenizer.from_pretrained(model_name)\n",
    "\n",
    "# Text input\n",
    "text_input = 'áo đẹp xinh nên mua'\n",
    "# Tokenize text\n",
    "tokenized_input = tokenizer(text_input, return_tensors=\"pt\", truncation=True, padding=True)\n",
    "# Extract input_ids and attention_mask\n",
    "input_ids = tokenized_input[\"input_ids\"]\n",
    "attention_mask = tokenized_input[\"attention_mask\"]\n",
    "\n",
    "# Thực hiện dự đoán\n",
    "with torch.no_grad():\n",
    "    logits = model(input_ids, attention_mask)\n",
    "    pred = torch.nn.functional.log_softmax(logits, dim=1)\n",
    "    pred = torch.argmax(pred, dim=1).item()\n",
    "\n",
    "# In ra dự đoán\n",
    "if pred == 0:\n",
    "    print(\"Tiêu cực\")\n",
    "else: print(\"Tích cực\")\n"
   ]
  }
 ],
 "metadata": {
  "kernelspec": {
   "display_name": "env",
   "language": "python",
   "name": "python3"
  },
  "language_info": {
   "codemirror_mode": {
    "name": "ipython",
    "version": 3
   },
   "file_extension": ".py",
   "mimetype": "text/x-python",
   "name": "python",
   "nbconvert_exporter": "python",
   "pygments_lexer": "ipython3",
   "version": "3.10.6"
  }
 },
 "nbformat": 4,
 "nbformat_minor": 2
}
